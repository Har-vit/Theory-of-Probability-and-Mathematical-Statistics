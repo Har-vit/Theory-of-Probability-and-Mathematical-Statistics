{
 "cells": [
  {
   "cell_type": "markdown",
   "metadata": {},
   "source": [
    "# Теория вероятностей и Математическая статистика\n",
    "## Тема №7. Многомерный статистический анализ. Линейная регрессия."
   ]
  },
  {
   "cell_type": "code",
   "execution_count": 1,
   "metadata": {},
   "outputs": [],
   "source": [
    "import pandas as pd\n",
    "import numpy as np\n",
    "import matplotlib.pyplot as plt"
   ]
  },
  {
   "cell_type": "markdown",
   "metadata": {},
   "source": [
    "### Задача № 1\n",
    "\n",
    "#### Даны значения величины заработной платы заемщиков банка (zp) и значения их поведенческого кредитного скоринга (ks): \n",
    "```\n",
    "zp = [35, 45, 190, 200, 40, 70, 54, 150, 120, 110], \n",
    "ks = [401, 574, 874, 919, 459, 739, 653, 902, 746, 832]. \n",
    "```\n",
    "#### Используя математические операции, посчитать коэффициенты линейной регрессии, приняв за X заработную плату (то есть, zp - признак), а за y - значения скорингового балла (то есть, ks - целевая переменная). \n",
    "\n",
    "#### Произвести расчет как с использованием intercept, так и без."
   ]
  },
  {
   "cell_type": "code",
   "execution_count": 2,
   "metadata": {},
   "outputs": [],
   "source": [
    "zp = [35, 45, 190, 200, 40, 70, 54, 150, 120, 110]\n",
    "ks = [401, 574, 874, 919, 459, 739, 653, 902, 746, 832]\n",
    "\n",
    "x = np.array(zp)\n",
    "y = np.array(ks)"
   ]
  },
  {
   "cell_type": "markdown",
   "metadata": {},
   "source": [
    "**Парная линейная регрессия**\n",
    "\n",
    "y_hat = a + bx"
   ]
  },
  {
   "cell_type": "code",
   "execution_count": 3,
   "metadata": {},
   "outputs": [
    {
     "data": {
      "text/plain": [
       "2.620538882402765"
      ]
     },
     "execution_count": 3,
     "metadata": {},
     "output_type": "execute_result"
    }
   ],
   "source": [
    "b = (np.mean(x * y) - np.mean(x) * np.mean(y)) / (np.mean(x ** 2) - np.mean(x) ** 2)\n",
    "b"
   ]
  },
  {
   "cell_type": "code",
   "execution_count": 4,
   "metadata": {},
   "outputs": [
    {
     "data": {
      "text/plain": [
       "444.1773573243596"
      ]
     },
     "execution_count": 4,
     "metadata": {},
     "output_type": "execute_result"
    }
   ],
   "source": [
    "a = np.mean(y) - b * np.mean(x)\n",
    "a"
   ]
  },
  {
   "cell_type": "markdown",
   "metadata": {},
   "source": [
    "y = 444.18 + 2.62*x"
   ]
  },
  {
   "cell_type": "code",
   "execution_count": 5,
   "metadata": {},
   "outputs": [
    {
     "data": {
      "text/plain": [
       "array([535.89621821, 562.10160703, 942.07974498, 968.2851338 ,\n",
       "       548.99891262, 627.61507909, 585.68645697, 837.25818968,\n",
       "       758.64202321, 732.43663439])"
      ]
     },
     "execution_count": 5,
     "metadata": {},
     "output_type": "execute_result"
    }
   ],
   "source": [
    "y_hat = a + b * x\n",
    "y_hat"
   ]
  },
  {
   "cell_type": "code",
   "execution_count": 6,
   "metadata": {},
   "outputs": [
    {
     "data": {
      "image/png": "[encoded data removed]",
      "text/plain": [
       "<Figure size 432x288 with 1 Axes>"
      ]
     },
     "metadata": {
      "needs_background": "light"
     },
     "output_type": "display_data"
    }
   ],
   "source": [
    "plt.scatter(x, y)\n",
    "plt.plot(x, y_hat)\n",
    "plt.xlabel('Заработная плата')\n",
    "plt.ylabel('Скоринговый балл')\n",
    "plt.show()"
   ]
  },
  {
   "cell_type": "code",
   "execution_count": 7,
   "metadata": {},
   "outputs": [
    {
     "data": {
      "text/plain": [
       "0.8874900920739162"
      ]
     },
     "execution_count": 7,
     "metadata": {},
     "output_type": "execute_result"
    }
   ],
   "source": [
    "r = b * np.std(x) / np.std(y)\n",
    "r"
   ]
  },
  {
   "cell_type": "code",
   "execution_count": 8,
   "metadata": {},
   "outputs": [
    {
     "data": {
      "text/plain": [
       "0.7876386635293682"
      ]
     },
     "execution_count": 8,
     "metadata": {},
     "output_type": "execute_result"
    }
   ],
   "source": [
    "R2 = r ** 2\n",
    "R2"
   ]
  },
  {
   "cell_type": "code",
   "execution_count": 9,
   "metadata": {},
   "outputs": [
    {
     "data": {
      "text/plain": [
       "11.46925184356171"
      ]
     },
     "execution_count": 9,
     "metadata": {},
     "output_type": "execute_result"
    }
   ],
   "source": [
    "A_mean = (abs((y - y_hat) / y)).sum() / len(x) * 100\n",
    "A_mean"
   ]
  },
  {
   "cell_type": "code",
   "execution_count": 10,
   "metadata": {},
   "outputs": [
    {
     "data": {
      "text/plain": [
       "6470.414201176658"
      ]
     },
     "execution_count": 10,
     "metadata": {},
     "output_type": "execute_result"
    }
   ],
   "source": [
    "mse = ((y - y_hat) ** 2).sum() / len(x)\n",
    "mse"
   ]
  },
  {
   "cell_type": "markdown",
   "metadata": {},
   "source": [
    "**Матричный метод**"
   ]
  },
  {
   "cell_type": "code",
   "execution_count": 11,
   "metadata": {},
   "outputs": [
    {
     "data": {
      "text/plain": [
       "array([[ 35],\n",
       "       [ 45],\n",
       "       [190],\n",
       "       [200],\n",
       "       [ 40],\n",
       "       [ 70],\n",
       "       [ 54],\n",
       "       [150],\n",
       "       [120],\n",
       "       [110]])"
      ]
     },
     "execution_count": 11,
     "metadata": {},
     "output_type": "execute_result"
    }
   ],
   "source": [
    "n = len(x)\n",
    "xm = x.reshape((n, 1))\n",
    "xm"
   ]
  },
  {
   "cell_type": "code",
   "execution_count": 12,
   "metadata": {},
   "outputs": [
    {
     "data": {
      "text/plain": [
       "array([[401],\n",
       "       [574],\n",
       "       [874],\n",
       "       [919],\n",
       "       [459],\n",
       "       [739],\n",
       "       [653],\n",
       "       [902],\n",
       "       [746],\n",
       "       [832]])"
      ]
     },
     "execution_count": 12,
     "metadata": {},
     "output_type": "execute_result"
    }
   ],
   "source": [
    "ym = y.reshape((n, 1))\n",
    "ym"
   ]
  },
  {
   "cell_type": "markdown",
   "metadata": {},
   "source": [
    "y = b0 + b1 * x"
   ]
  },
  {
   "cell_type": "code",
   "execution_count": 13,
   "metadata": {},
   "outputs": [
    {
     "data": {
      "text/plain": [
       "array([[5.88982042]])"
      ]
     },
     "execution_count": 13,
     "metadata": {},
     "output_type": "execute_result"
    }
   ],
   "source": [
    "bm = np.dot(np.linalg.inv(np.dot(xm.T, xm)), xm.T@ym)\n",
    "bm"
   ]
  },
  {
   "cell_type": "code",
   "execution_count": 14,
   "metadata": {},
   "outputs": [
    {
     "data": {
      "text/plain": [
       "array([[5.88982042]])"
      ]
     },
     "execution_count": 14,
     "metadata": {},
     "output_type": "execute_result"
    }
   ],
   "source": [
    "bm1 = np.dot(np.linalg.inv(np.dot(xm.T, xm)), xm.T@ym)\n",
    "bm1"
   ]
  },
  {
   "cell_type": "code",
   "execution_count": 15,
   "metadata": {},
   "outputs": [
    {
     "data": {
      "text/plain": [
       "array([[  1.,  35.],\n",
       "       [  1.,  45.],\n",
       "       [  1., 190.],\n",
       "       [  1., 200.],\n",
       "       [  1.,  40.],\n",
       "       [  1.,  70.],\n",
       "       [  1.,  54.],\n",
       "       [  1., 150.],\n",
       "       [  1., 120.],\n",
       "       [  1., 110.]])"
      ]
     },
     "execution_count": 15,
     "metadata": {},
     "output_type": "execute_result"
    }
   ],
   "source": [
    "xm = np.hstack([np.ones((n, 1)), xm])\n",
    "xm"
   ]
  },
  {
   "cell_type": "code",
   "execution_count": 16,
   "metadata": {},
   "outputs": [
    {
     "data": {
      "text/plain": [
       "array([[444.17735732],\n",
       "       [  2.62053888]])"
      ]
     },
     "execution_count": 16,
     "metadata": {},
     "output_type": "execute_result"
    }
   ],
   "source": [
    "bm2 = np.dot(np.linalg.inv(np.dot(xm.T, xm)), xm.T@ym)\n",
    "bm2"
   ]
  },
  {
   "cell_type": "code",
   "execution_count": 17,
   "metadata": {},
   "outputs": [
    {
     "data": {
      "text/plain": [
       "array([ 206.1437147 ,  265.04191891, 1119.06587983, 1177.96408403,\n",
       "        235.59281681,  412.28742941,  318.05030269,  883.47306302,\n",
       "        706.77845042,  647.88024621])"
      ]
     },
     "execution_count": 17,
     "metadata": {},
     "output_type": "execute_result"
    }
   ],
   "source": [
    "y_hat1 = bm1[0] * x\n",
    "y_hat1"
   ]
  },
  {
   "cell_type": "code",
   "execution_count": 18,
   "metadata": {},
   "outputs": [
    {
     "data": {
      "text/plain": [
       "array([535.89621821, 562.10160703, 942.07974498, 968.2851338 ,\n",
       "       548.99891262, 627.61507909, 585.68645697, 837.25818968,\n",
       "       758.64202321, 732.43663439])"
      ]
     },
     "execution_count": 18,
     "metadata": {},
     "output_type": "execute_result"
    }
   ],
   "source": [
    "y_hat2 = bm2[0] + bm2[1] * x\n",
    "y_hat2"
   ]
  },
  {
   "cell_type": "code",
   "execution_count": 19,
   "metadata": {},
   "outputs": [
    {
     "data": {
      "image/png": "[encoded data removed]",
      "text/plain": [
       "<Figure size 432x288 with 1 Axes>"
      ]
     },
     "metadata": {
      "needs_background": "light"
     },
     "output_type": "display_data"
    }
   ],
   "source": [
    "plt.scatter(x, y)\n",
    "plt.plot(x, y_hat2)\n",
    "plt.plot(x, y_hat1)\n",
    "plt.xlabel('Заработная плата')\n",
    "plt.ylabel('Скоринговый балл')\n",
    "plt.show()"
   ]
  },
  {
   "cell_type": "markdown",
   "metadata": {},
   "source": [
    "### Задача № 2\n",
    "\n",
    "#### Посчитать коэффициент линейной регрессии при заработной плате (zp), используя градиентный спуск (без intercept)."
   ]
  },
  {
   "cell_type": "code",
   "execution_count": 20,
   "metadata": {},
   "outputs": [],
   "source": [
    "zp = [35, 45, 190, 200, 40, 70, 54, 150, 120, 110]\n",
    "ks = [401, 574, 874, 919, 459, 739, 653, 902, 746, 832]\n",
    "\n",
    "x = np.array(zp)\n",
    "y = np.array(ks)\n",
    "n = len(x)"
   ]
  },
  {
   "cell_type": "code",
   "execution_count": 21,
   "metadata": {},
   "outputs": [],
   "source": [
    "def mse_(B1, y=y, x=x, n=n):\n",
    "    return (1/n) * np.sum((B1 * x - y) ** 2)\n",
    "\n",
    "def mse_p(B1, y=y, x=x, n=n):\n",
    "    return (2/n) * np.sum((B1 * x - y) * x)"
   ]
  },
  {
   "cell_type": "code",
   "execution_count": 22,
   "metadata": {},
   "outputs": [
    {
     "name": "stdout",
     "output_type": "stream",
     "text": [
      "iteration: 0, B1 = 0.32456680000000004, mse = 483206.37291419966\n",
      "iteration: 50, B1 = 5.5627582368316855, mse = 57990.53679549011\n",
      "iteration: 100, B1 = 5.8705994323669835, mse = 56521.94813058985\n",
      "iteration: 150, B1 = 5.888690829524075, mse = 56516.87599431581\n",
      "iteration: 200, B1 = 5.889754035670109, mse = 56516.85847643147\n",
      "iteration: 250, B1 = 5.8898165188105285, mse = 56516.858415929106\n",
      "iteration: 300, B1 = 5.889820190857434, mse = 56516.85841572014\n",
      "iteration: 350, B1 = 5.889820406658501, mse = 56516.85841571939\n",
      "iteration: 400, B1 = 5.889820419340829, mse = 56516.858415719405\n",
      "iteration: 450, B1 = 5.889820420086153, mse = 56516.858415719405\n",
      "iteration: 500, B1 = 5.889820420129954, mse = 56516.858415719405\n"
     ]
    }
   ],
   "source": [
    "alpha = 2e-6\n",
    "B1 = 0\n",
    "for i in range(501):\n",
    "    B1 -= alpha * mse_p(B1)\n",
    "    if not i % 50:\n",
    "        print(f'iteration: {i}, B1 = {B1}, mse = {mse_(B1)}')"
   ]
  },
  {
   "cell_type": "markdown",
   "metadata": {},
   "source": [
    "значение b1 соответствует значению, вычисленному матричным методом"
   ]
  },
  {
   "cell_type": "markdown",
   "metadata": {},
   "source": [
    "### Задача № 3\n",
    "\n",
    "#### В каких случаях для вычисления доверительных интервалов и проверки статистических гипотез используется таблица значений функции Лапласа, а в каких - таблица критических точек распределения Стьюдента?"
   ]
  },
  {
   "cell_type": "markdown",
   "metadata": {},
   "source": [
    "При больших значениях n (n > 100) используется таблица значений функции Лапласа, а при малых - таблица критических точек распределения Стьюдента."
   ]
  },
  {
   "cell_type": "markdown",
   "metadata": {},
   "source": [
    "### Задача № 4\n",
    "\n",
    "#### Произвести вычисления как в пункте 2, но с вычислением intercept. Учесть, что изменение коэффициентов должно производиться на каждом шаге одновременно (то есть изменение одного коэффициента не должно влиять на изменение другого во время одной итерации)."
   ]
  },
  {
   "cell_type": "code",
   "execution_count": 23,
   "metadata": {},
   "outputs": [],
   "source": [
    "zp = [35, 45, 190, 200, 40, 70, 54, 150, 120, 110]\n",
    "ks = [401, 574, 874, 919, 459, 739, 653, 902, 746, 832]\n",
    "\n",
    "x = np.array(zp)\n",
    "y = np.array(ks)\n",
    "n = len(x)"
   ]
  },
  {
   "cell_type": "code",
   "execution_count": 24,
   "metadata": {},
   "outputs": [],
   "source": [
    "def mse_2(b0, b1, y=y, x=x, n=n):\n",
    "    return (1/n) * np.sum((b0 + b1 * x - y) ** 2)\n"
   ]
  },
  {
   "cell_type": "code",
   "execution_count": 25,
   "metadata": {},
   "outputs": [
    {
     "name": "stdout",
     "output_type": "stream",
     "text": [
      "i: 0, b0 = 0.07099000000000001, b1 = 8.114170000000001, mse = 124695.80133979913\n",
      "i: 50000, b0 = 319.2379294525127, b1 = 3.5401483104337204, mse = 10430.088099722147\n",
      "i: 100000, b0 = 409.02972996943777, b1 = 2.8792409593936914, mse = 6783.780596229795\n",
      "i: 150000, b0 = 434.2897203331964, b1 = 2.6933162622331577, mse = 6495.213843789821\n",
      "i: 200000, b0 = 441.39579359939756, b1 = 2.641012421218453, mse = 6472.376831131397\n",
      "i: 250000, b0 = 443.3948552196657, b1 = 2.626298443857366, mse = 6470.569522622184\n",
      "i: 300000, b0 = 443.95722591469394, b1 = 2.622159146903591, mse = 6470.426493229665\n",
      "i: 350000, b0 = 444.1154305420171, b1 = 2.620994690900209, mse = 6470.415173962915\n",
      "i: 400000, b0 = 444.15993624675195, b1 = 2.6206671092362583, mse = 6470.414278162422\n",
      "i: 450000, b0 = 444.17245647316844, b1 = 2.620574954834323, mse = 6470.41420726927\n",
      "i: 500000, b0 = 444.17597862994756, b1 = 2.6205490302031937, mse = 6470.414201658823\n",
      "i: 550000, b0 = 444.17696947371286, b1 = 2.620541737155004, mse = 6470.414201214816\n",
      "i: 600000, b0 = 444.1772482152497, b1 = 2.6205396854940544, mse = 6470.414201179681\n",
      "i: 650000, b0 = 444.1773266300739, b1 = 2.620539108326279, mse = 6470.414201176896\n",
      "i: 700000, b0 = 444.17734868952454, b1 = 2.6205389459589687, mse = 6470.414201176674\n",
      "i: 750000, b0 = 444.17735489523045, b1 = 2.62053890028223, mse = 6470.414201176656\n",
      "i: 800000, b0 = 444.1773566410026, b1 = 2.6205388874325752, mse = 6470.41420117666\n",
      "i: 850000, b0 = 444.177357132118, b1 = 2.6205388838177486, mse = 6470.41420117666\n",
      "i: 900000, b0 = 444.1773572702722, b1 = 2.6205388828008727, mse = 6470.4142011766635\n",
      "i: 950000, b0 = 444.1773573091264, b1 = 2.6205388825148885, mse = 6470.414201176659\n"
     ]
    }
   ],
   "source": [
    "alpha0 = 5e-5\n",
    "alpha1 = 5e-5\n",
    "b0 = 0\n",
    "b1 = 0\n",
    "\n",
    "for i in range(1000000):\n",
    "    y_ = b0 + b1 * x\n",
    "    b0 -= alpha0 * (2/n) * np.sum((y_ - y))\n",
    "    b1 -= alpha1 * (2/n) * np.sum((y_ - y) * x)\n",
    "    if not i % 50000:\n",
    "        print(f'i: {i}, b0 = {b0}, b1 = {b1}, mse = {mse_2(b0, b1)}')"
   ]
  },
  {
   "cell_type": "markdown",
   "metadata": {},
   "source": [
    "матричный метод:\n",
    "\n",
    "`b0 = 444.17735732`\n",
    "\n",
    "`b1 = 2.62053888`\n",
    "\n",
    "градиентный спуск:\n",
    "\n",
    "`b0 = 444.1773573091264`\n",
    "\n",
    "`b1 = 2.6205388825148885`"
   ]
  },
  {
   "cell_type": "code",
   "execution_count": null,
   "metadata": {},
   "outputs": [],
   "source": []
  }
 ],
 "metadata": {
  "kernelspec": {
   "display_name": "Python 3",
   "language": "python",
   "name": "python3"
  },
  "language_info": {
   "codemirror_mode": {
    "name": "ipython",
    "version": 3
   },
   "file_extension": ".py",
   "mimetype": "text/x-python",
   "name": "python",
   "nbconvert_exporter": "python",
   "pygments_lexer": "ipython3",
   "version": "3.7.3"
  }
 },
 "nbformat": 4,
 "nbformat_minor": 2
}
