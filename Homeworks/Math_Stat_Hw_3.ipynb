{
 "cells": [
  {
   "cell_type": "markdown",
   "metadata": {},
   "source": [
    "# Теория вероятностей и математическая статистика\n",
    "## Тема №3. Описательная статистика. Качественные и количественные характеристики популяции. Графическое представление данных"
   ]
  },
  {
   "cell_type": "code",
   "execution_count": 1,
   "metadata": {},
   "outputs": [],
   "source": [
    "from math import factorial as fct\n",
    "\n",
    "# сочетания\n",
    "def combinations(n, k):\n",
    "    return int(fct(n) / (fct(k) * fct(n - k)))"
   ]
  },
  {
   "cell_type": "markdown",
   "metadata": {},
   "source": [
    "### Задача №1\n",
    "\n",
    "#### Даны значения зарплат из выборки выпускников: \n",
    "#### 100, 80, 75, 77, 89, 33, 45, 25, 65, 17, 30, 24, 57, 55, 70, 75, 65, 84, 90, 150. \n",
    "#### Посчитать (желательно без использования статистических методов наподобие std, var, mean):\n",
    "#### - среднее арифметическое, \n",
    "#### - среднее квадратичное отклонение, \n",
    "#### - смещенную и \n",
    "#### - несмещенную оценки дисперсий для данной выборки."
   ]
  },
  {
   "cell_type": "code",
   "execution_count": 2,
   "metadata": {},
   "outputs": [],
   "source": [
    "salaries = [100, 80, 75, 77, 89, 33, 45, 25, 65, 17, 30, 24, 57, 55, 70, 75, 65, 84, 90, 150]"
   ]
  },
  {
   "cell_type": "code",
   "execution_count": 3,
   "metadata": {},
   "outputs": [],
   "source": [
    "def mean(salaries):\n",
    "    return sum(salaries) / len(salaries)"
   ]
  },
  {
   "cell_type": "code",
   "execution_count": 4,
   "metadata": {},
   "outputs": [
    {
     "data": {
      "text/plain": [
       "65.3"
      ]
     },
     "execution_count": 4,
     "metadata": {},
     "output_type": "execute_result"
    }
   ],
   "source": [
    "mean(salaries)"
   ]
  },
  {
   "cell_type": "code",
   "execution_count": 5,
   "metadata": {},
   "outputs": [],
   "source": [
    "def dispersion(salaries, ddof = 0):\n",
    "    mean_salary = mean(salaries)\n",
    "    return sum((x - mean_salary) ** 2 for x in salaries) / (len(salaries) - ddof)\n",
    "\n",
    "def std(salaries, ddof = 0):\n",
    "     return dispersion(salaries, ddof = ddof) ** 0.5"
   ]
  },
  {
   "cell_type": "code",
   "execution_count": 6,
   "metadata": {},
   "outputs": [
    {
     "data": {
      "text/plain": [
       "30.823854398825596"
      ]
     },
     "execution_count": 6,
     "metadata": {},
     "output_type": "execute_result"
    }
   ],
   "source": [
    "std(salaries)"
   ]
  },
  {
   "cell_type": "code",
   "execution_count": 7,
   "metadata": {},
   "outputs": [
    {
     "data": {
      "text/plain": [
       "950.11"
      ]
     },
     "execution_count": 7,
     "metadata": {},
     "output_type": "execute_result"
    }
   ],
   "source": [
    "dispersion(salaries)"
   ]
  },
  {
   "cell_type": "code",
   "execution_count": 8,
   "metadata": {},
   "outputs": [
    {
     "data": {
      "text/plain": [
       "1000.1157894736842"
      ]
     },
     "execution_count": 8,
     "metadata": {},
     "output_type": "execute_result"
    }
   ],
   "source": [
    "dispersion(salaries, ddof=1)"
   ]
  },
  {
   "cell_type": "markdown",
   "metadata": {},
   "source": [
    "### Задача №2\n",
    "\n",
    "#### В первом ящике находится 8 мячей, из которых 5 - белые. \n",
    "#### Во втором ящике - 12 мячей, из которых 5 белых. \n",
    "#### Из первого ящика вытаскивают случайным образом два мяча, из второго - 4. \n",
    "#### Какова вероятность того, что 3 мяча белые?"
   ]
  },
  {
   "cell_type": "code",
   "execution_count": 9,
   "metadata": {},
   "outputs": [],
   "source": [
    "def box(x, y, n, k):\n",
    "    return combinations(k, x) * combinations (n - k, y - x) / combinations(n, y)\n",
    "    \n",
    "def box1(x, y = 2):\n",
    "    return box(x, y, n = 8, k = 5)\n",
    "\n",
    "def box2(x, y = 4):\n",
    "    return box(x, y, n = 12, k = 5)\n",
    "\n",
    "def boxes(x1, x2):\n",
    "    return box1(x1) * box2(x2)"
   ]
  },
  {
   "cell_type": "markdown",
   "metadata": {},
   "source": [
    "3 белых мяча (ящик1 / ящик2), варианты:\n",
    "- 0 / 3\n",
    "- 1 / 2\n",
    "- 2 / 1"
   ]
  },
  {
   "cell_type": "code",
   "execution_count": 10,
   "metadata": {},
   "outputs": [
    {
     "data": {
      "text/plain": [
       "0.3686868686868687"
      ]
     },
     "execution_count": 10,
     "metadata": {},
     "output_type": "execute_result"
    }
   ],
   "source": [
    "boxes(0, 3) + boxes(1, 2) + boxes(2, 1)"
   ]
  },
  {
   "cell_type": "markdown",
   "metadata": {},
   "source": [
    "### Задача №3\n",
    "\n",
    "#### На соревновании по биатлону один из трех спортсменов стреляет и попадает в мишень. \n",
    "#### Вероятность попадания для первого спортсмена равна 0.9, для второго — 0.8, для третьего — 0.6. \n",
    "#### Найти вероятность того, что выстрел произведен: \n",
    "#### - a) первым спортсменом \n",
    "#### - б) вторым спортсменом \n",
    "#### - в) третьим спортсменом."
   ]
  },
  {
   "cell_type": "markdown",
   "metadata": {},
   "source": [
    "A - попадание в мишень\n",
    "\n",
    "P(Bn) = P(B1) = P(B2) = P(B3) = 1/3\n",
    "\n",
    "По формуле Байеса:\n",
    "P(Bn|A) = P(Bn) * P(A|Bn) / P(A)\n",
    "\n",
    "Полная вероятность:\n",
    "P(A) = P(B1) * P(A|B1) + P(B2) * P(A|B2) + P(B3) * P(A|B3)"
   ]
  },
  {
   "cell_type": "code",
   "execution_count": 11,
   "metadata": {},
   "outputs": [],
   "source": [
    "p_a_b1 = 0.9\n",
    "p_a_b2 = 0.8\n",
    "p_a_b3 = 0.6\n",
    "\n",
    "p_b1 = p_b2 = p_b3 = p_bn = 1 / 3\n",
    "\n",
    "p_a = p_bn * (p_a_b1 + p_a_b2 + p_a_b3)\n",
    "\n",
    "p_b1_a = p_b1 * p_a_b1 / p_a\n",
    "p_b2_a = p_b2 * p_a_b2 / p_a\n",
    "p_b3_a = p_b3 * p_a_b3 / p_a"
   ]
  },
  {
   "cell_type": "code",
   "execution_count": 12,
   "metadata": {},
   "outputs": [
    {
     "data": {
      "text/plain": [
       "0.3913043478260869"
      ]
     },
     "execution_count": 12,
     "metadata": {},
     "output_type": "execute_result"
    }
   ],
   "source": [
    "p_b1_a"
   ]
  },
  {
   "cell_type": "code",
   "execution_count": 13,
   "metadata": {},
   "outputs": [
    {
     "data": {
      "text/plain": [
       "0.34782608695652173"
      ]
     },
     "execution_count": 13,
     "metadata": {},
     "output_type": "execute_result"
    }
   ],
   "source": [
    "p_b2_a"
   ]
  },
  {
   "cell_type": "code",
   "execution_count": 14,
   "metadata": {},
   "outputs": [
    {
     "data": {
      "text/plain": [
       "0.26086956521739124"
      ]
     },
     "execution_count": 14,
     "metadata": {},
     "output_type": "execute_result"
    }
   ],
   "source": [
    "p_b3_a"
   ]
  },
  {
   "cell_type": "markdown",
   "metadata": {},
   "source": [
    "### Задача №4\n",
    "\n",
    "#### В университет на факультеты A и B поступило равное количество студентов, а на факультет C студентов поступило столько же, сколько на A и B вместе. \n",
    "#### Вероятность того, что студент факультета A сдаст первую сессию, равна 0.8. \n",
    "#### Для студента факультета B эта вероятность равна 0.7, а для студента факультета C - 0.9. \n",
    "#### Студент сдал первую сессию. \n",
    "#### Какова вероятность, что он учится: \n",
    "#### - a) на факультете A \n",
    "#### - б) на факультете B \n",
    "#### - в) на факультете C?"
   ]
  },
  {
   "cell_type": "markdown",
   "metadata": {},
   "source": [
    "X - сданная сессия, \n",
    "A, B, C - факультеты\n",
    "\n",
    "P(X) =  P(A) * P(X|A) + P(B) * P(X|B) + P(C) * P(X|C)"
   ]
  },
  {
   "cell_type": "code",
   "execution_count": 15,
   "metadata": {},
   "outputs": [],
   "source": [
    "p_a = p_b = 1 / 4\n",
    "p_c = 1 / 2\n",
    "\n",
    "p_x_a = 0.8\n",
    "p_x_b = 0.7\n",
    "p_x_c = 0.9\n",
    "\n",
    "p_x = p_a * p_x_a + p_b * p_x_b + p_c * p_x_c"
   ]
  },
  {
   "cell_type": "code",
   "execution_count": 16,
   "metadata": {},
   "outputs": [],
   "source": [
    "p_a_x = p_a * p_x_a / p_x\n",
    "p_b_x = p_b * p_x_b / p_x\n",
    "p_c_x = p_c * p_x_c / p_x"
   ]
  },
  {
   "cell_type": "code",
   "execution_count": 17,
   "metadata": {},
   "outputs": [
    {
     "data": {
      "text/plain": [
       "0.24242424242424246"
      ]
     },
     "execution_count": 17,
     "metadata": {},
     "output_type": "execute_result"
    }
   ],
   "source": [
    "p_a_x"
   ]
  },
  {
   "cell_type": "code",
   "execution_count": 18,
   "metadata": {},
   "outputs": [
    {
     "data": {
      "text/plain": [
       "0.21212121212121213"
      ]
     },
     "execution_count": 18,
     "metadata": {},
     "output_type": "execute_result"
    }
   ],
   "source": [
    "p_b_x"
   ]
  },
  {
   "cell_type": "code",
   "execution_count": 19,
   "metadata": {},
   "outputs": [
    {
     "data": {
      "text/plain": [
       "0.5454545454545455"
      ]
     },
     "execution_count": 19,
     "metadata": {},
     "output_type": "execute_result"
    }
   ],
   "source": [
    "p_c_x"
   ]
  },
  {
   "cell_type": "markdown",
   "metadata": {},
   "source": [
    "### Задача №5\n",
    "\n",
    "#### Устройство состоит из трех деталей. \n",
    "#### Для первой детали вероятность выйти из строя в первый месяц равна 0.1, для второй - 0.2, для третьей - 0.25. \n",
    "#### Какова вероятность того, что в первый месяц выйдут из строя: \n",
    "#### - а) все детали \n",
    "#### - б) только две детали \n",
    "#### - в) хотя бы одна деталь \n",
    "#### - г) от одной до двух деталей?"
   ]
  },
  {
   "cell_type": "markdown",
   "metadata": {},
   "source": [
    "обозначим детали как a, b и c; события независимые, их вероятности:"
   ]
  },
  {
   "cell_type": "code",
   "execution_count": 20,
   "metadata": {},
   "outputs": [],
   "source": [
    "p_a = 0.1\n",
    "p_b = 0.2\n",
    "p_c = 0.25"
   ]
  },
  {
   "cell_type": "code",
   "execution_count": 21,
   "metadata": {},
   "outputs": [
    {
     "data": {
      "text/plain": [
       "0.005000000000000001"
      ]
     },
     "execution_count": 21,
     "metadata": {},
     "output_type": "execute_result"
    }
   ],
   "source": [
    "p_all = p_a * p_b * p_c\n",
    "p_all"
   ]
  },
  {
   "cell_type": "code",
   "execution_count": 22,
   "metadata": {},
   "outputs": [
    {
     "data": {
      "text/plain": [
       "0.08000000000000002"
      ]
     },
     "execution_count": 22,
     "metadata": {},
     "output_type": "execute_result"
    }
   ],
   "source": [
    "p_2 = p_a * p_b * (1 - p_c) + p_a * (1 - p_b) * p_c + (1 - p_a) * p_b * p_c\n",
    "p_2"
   ]
  },
  {
   "cell_type": "code",
   "execution_count": 23,
   "metadata": {},
   "outputs": [
    {
     "data": {
      "text/plain": [
       "0.45999999999999996"
      ]
     },
     "execution_count": 23,
     "metadata": {},
     "output_type": "execute_result"
    }
   ],
   "source": [
    "p_any = 1 - (1 - p_a) * (1 - p_b) * (1 - p_c)\n",
    "p_any"
   ]
  },
  {
   "cell_type": "code",
   "execution_count": 24,
   "metadata": {},
   "outputs": [
    {
     "data": {
      "text/plain": [
       "0.375"
      ]
     },
     "execution_count": 24,
     "metadata": {},
     "output_type": "execute_result"
    }
   ],
   "source": [
    "p_1 = p_a * (1 - p_b) * (1 - p_c) + (1 - p_a) * p_b * (1 - p_c) + (1 - p_a) * (1 - p_b) * p_c\n",
    "p_1"
   ]
  },
  {
   "cell_type": "code",
   "execution_count": 25,
   "metadata": {},
   "outputs": [
    {
     "data": {
      "text/plain": [
       "0.455"
      ]
     },
     "execution_count": 25,
     "metadata": {},
     "output_type": "execute_result"
    }
   ],
   "source": [
    "p_1_or_2 = p_1 + p_2\n",
    "p_1_or_2"
   ]
  },
  {
   "cell_type": "code",
   "execution_count": null,
   "metadata": {},
   "outputs": [],
   "source": []
  }
 ],
 "metadata": {
  "kernelspec": {
   "display_name": "Python 3",
   "language": "python",
   "name": "python3"
  },
  "language_info": {
   "codemirror_mode": {
    "name": "ipython",
    "version": 3
   },
   "file_extension": ".py",
   "mimetype": "text/x-python",
   "name": "python",
   "nbconvert_exporter": "python",
   "pygments_lexer": "ipython3",
   "version": "3.7.3"
  }
 },
 "nbformat": 4,
 "nbformat_minor": 2
}
